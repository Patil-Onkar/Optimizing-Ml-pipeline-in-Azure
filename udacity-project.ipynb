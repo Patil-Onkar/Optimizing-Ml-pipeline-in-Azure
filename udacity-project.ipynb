{
  "nbformat": 4,
  "nbformat_minor": 0,
  "metadata": {
    "kernel_info": {
      "name": "python3-azureml"
    },
    "kernelspec": {
      "display_name": "Python 3",
      "language": "python",
      "name": "python3"
    },
    "language_info": {
      "codemirror_mode": {
        "name": "ipython",
        "version": 3
      },
      "file_extension": ".py",
      "mimetype": "text/x-python",
      "name": "python",
      "nbconvert_exporter": "python",
      "pygments_lexer": "ipython3",
      "version": "3.7.4"
    },
    "nteract": {
      "version": "nteract-front-end@1.0.0"
    },
    "colab": {
      "name": "udacity-project.ipynb",
      "provenance": [],
      "collapsed_sections": []
    }
  },
  "cells": [
    {
      "cell_type": "code",
      "metadata": {
        "gather": {
          "logged": 1598275788035
        },
        "id": "rrwK8FU4G20F"
      },
      "source": [
        "from azureml.core import Workspace, Experiment\n",
        "\n",
        "ws = Workspace.from_config()\n",
        "exp = Experiment(workspace=ws, name=\"quick-starts-ws-140158\")\n",
        "\n",
        "\n",
        "print('Workspace name: ' + ws.name, \n",
        "      'Azure region: ' + ws.location, \n",
        "      'Subscription id: ' + ws.subscription_id, \n",
        "      'Resource group: ' + ws.resource_group, sep = '\\n')\n",
        "\n",
        "run = exp.start_logging()"
      ],
      "execution_count": null,
      "outputs": []
    },
    {
      "cell_type": "code",
      "metadata": {
        "gather": {
          "logged": 1598275788675
        },
        "jupyter": {
          "outputs_hidden": false,
          "source_hidden": false
        },
        "nteract": {
          "transient": {
            "deleting": false
          }
        },
        "id": "JGSgtdp1G20M"
      },
      "source": [
        "from azureml.core.compute import ComputeTarget, AmlCompute\n",
        "from azureml.core.compute_target import ComputeTargetException\n",
        "\n",
        "\n",
        "# TODO: Create compute cluster\n",
        "# Use vm_size = \"Standard_D2_V2\" in your provisioning configuration.\n",
        "# max_nodes should be no greater than 4.\n",
        "\n",
        "### YOUR CODE HERE ###\n",
        "cpu_cluster_name = \"compute-cluster\"\n",
        "\n",
        "# Verify that cluster does not exist already\n",
        "try:\n",
        "    compute_target = ComputeTarget(workspace=ws, name=cpu_cluster_name)\n",
        "    print('Found existing cluster, use it.')\n",
        "except ComputeTargetException:\n",
        "    print('Creating a new compute cluster...')\n",
        "    compute_config = AmlCompute.provisioning_configuration(vm_size='STANDARD_D2_V2', max_nodes=4)\n",
        "    compute_target = ComputeTarget.create(ws, cpu_cluster_name, compute_config)\n",
        "compute_target.wait_for_completion(show_output=True)"
      ],
      "execution_count": null,
      "outputs": []
    },
    {
      "cell_type": "code",
      "metadata": {
        "gather": {
          "logged": 1598275789986
        },
        "jupyter": {
          "outputs_hidden": false,
          "source_hidden": false
        },
        "nteract": {
          "transient": {
            "deleting": false
          }
        },
        "id": "-96brCCIG20N"
      },
      "source": [
        "from azureml.widgets import RunDetails\n",
        "from azureml.train.sklearn import SKLearn\n",
        "from azureml.train.hyperdrive.run import PrimaryMetricGoal\n",
        "from azureml.train.hyperdrive.policy import BanditPolicy\n",
        "from azureml.train.hyperdrive.sampling import RandomParameterSampling\n",
        "from azureml.train.hyperdrive.runconfig import HyperDriveConfig\n",
        "from azureml.train.hyperdrive.parameter_expressions import uniform,quniform\n",
        "import os\n",
        "\n",
        "# Specify parameter sampler\n",
        "parameter_space={\n",
        "    'C':uniform(0.5, 2),\n",
        "    'max_iter':quniform(50, 150, 10)}\n",
        "ps =  RandomParameterSampling(parameter_space, properties=None) ### YOUR CODE HERE ###\n",
        "\n",
        "# Specify a Policy\n",
        "policy = BanditPolicy(evaluation_interval=1, slack_factor=None, slack_amount=0.1, delay_evaluation=0) ### YOUR CODE HERE ###\n",
        "\n",
        "if \"training\" not in os.listdir():\n",
        "    os.mkdir(\"./training\")\n",
        "\n",
        "source_directory='./training'\n",
        "path='Users/odl_user_140158/train.py'\n",
        "\n",
        "# Create a SKLearn estimator for use with train.py\n",
        "est =SKLearn(source_directory, compute_target=cpu_cluster, vm_size='STANDARD_D2_V2', vm_priority=None, \n",
        "             entry_script=path, script_params={'C':None,'max_iter':None}, use_docker=True, custom_docker_image=None, \n",
        "             image_registry_details=None, user_managed=False, conda_packages=None, pip_packages=None, \n",
        "             conda_dependencies_file_path=None, pip_requirements_file_path=None, conda_dependencies_file=None, \n",
        "             pip_requirements_file=None, environment_variables=None, environment_definition=None, inputs=None, \n",
        "             shm_size=None, resume_from=None, max_run_duration_seconds=None, framework_version=None,\n",
        "             _enable_optimized_mode=False, _disable_validation=True, _show_lint_warnings=False,\n",
        "             _show_package_warnings=False) ### YOUR CODE HERE ###\n",
        "\n",
        "# Create a HyperDriveConfig using the estimator, hyperparameter sampler, and policy.\n",
        "hyperdrive_config = HyperDriveConfig(hyperparameter_sampling=ps, primary_metric_name='accuracy', primary_metric_goal=PrimaryMetricGoal.MAXIMIZE, \n",
        "                                     max_total_runs=100, max_concurrent_runs=None, max_duration_minutes=10080, \n",
        "                                     policy=policy, estimator=est, run_config=None, resume_from=None,\n",
        "                                     resume_child_runs=None, pipeline=None)### YOUR CODE HERE ###"
      ],
      "execution_count": null,
      "outputs": []
    },
    {
      "cell_type": "code",
      "metadata": {
        "id": "MPGBDecJG20N"
      },
      "source": [
        "# Submit your hyperdrive run to the experiment and show run details with the widget.\n",
        "\n",
        "### YOUR CODE HERE ###\n",
        "run=exp.submit(hyperdrive_config, tags=None, **kwargs)\n",
        "RunDetails(run).show()"
      ],
      "execution_count": null,
      "outputs": []
    },
    {
      "cell_type": "code",
      "metadata": {
        "gather": {
          "logged": 1598276310862
        },
        "jupyter": {
          "outputs_hidden": false,
          "source_hidden": false
        },
        "nteract": {
          "transient": {
            "deleting": false
          }
        },
        "id": "024xymXZG20O"
      },
      "source": [
        "import joblib\n",
        "# Get your best run and save the model from that run.\n",
        "best_run=run.get_best_run_by_primary_metric\n",
        "best_run, hyperdrive_model = best_run.get_output()\n",
        "joblib.dump(hyperdrive_model, 'hyperdrive_model.joblib')\n",
        "\n",
        "### YOUR CODE HERE ###"
      ],
      "execution_count": null,
      "outputs": []
    },
    {
      "cell_type": "code",
      "metadata": {
        "id": "uppFDYSQG20O"
      },
      "source": [
        "from azureml.data.dataset_factory import TabularDatasetFactory\n",
        "\n",
        "# Create TabularDataset using TabularDatasetFactory\n",
        "# Data is available at: \n",
        "# \"https://automlsamplenotebookdata.blob.core.windows.net/automl-sample-notebook-data/bankmarketing_train.csv\"\n",
        "\n",
        "### YOUR CODE HERE ###\n",
        "\n",
        "path=\"https://automlsamplenotebookdata.blob.core.windows.net/automl-sample-notebook-data/bankmarketing_train.csv\"\n",
        "ds = TabularDatasetFactory.from_delimited_files(path, validate=True, include_path=False, infer_column_types=True, \n",
        "                                                set_column_types=None, separator=',', \n",
        "                                                header=True, partition_format=None, support_multi_line=False, \n",
        "                                                empty_as_string=False, encoding='utf8')"
      ],
      "execution_count": null,
      "outputs": []
    },
    {
      "cell_type": "code",
      "metadata": {
        "gather": {
          "logged": 1598275726969
        },
        "jupyter": {
          "outputs_hidden": false,
          "source_hidden": false
        },
        "nteract": {
          "transient": {
            "deleting": false
          }
        },
        "id": "KDxONkKoG20O"
      },
      "source": [
        "from train import clean_data\n",
        "\n",
        "# Use the clean_data function to clean your data.\n",
        "x, y = clean_data(ds)### YOUR DATA OBJECT HERE ###)\n",
        "x_train,x_test,y_train,y_test = train_test_split(x,y,test_size=0.25,random_state=32)"
      ],
      "execution_count": null,
      "outputs": []
    },
    {
      "cell_type": "code",
      "metadata": {
        "gather": {
          "logged": 1598275665403
        },
        "jupyter": {
          "outputs_hidden": false,
          "source_hidden": false
        },
        "nteract": {
          "transient": {
            "deleting": false
          }
        },
        "id": "csBp1MBzG20P"
      },
      "source": [
        "from azureml.train.automl import AutoMLConfig\n",
        "\n",
        "# Set parameters for AutoMLConfig\n",
        "# NOTE: DO NOT CHANGE THE experiment_timeout_minutes PARAMETER OR YOUR INSTANCE WILL TIME OUT.\n",
        "# If you wish to run the experiment longer, you will need to run this notebook in your own\n",
        "# Azure tenant, which will incur personal costs.\n",
        "automl_config = AutoMLConfig(\n",
        "    experiment_timeout_minutes=30,\n",
        "    task=\"classification\",\n",
        "    primary_metric='accuracy',\n",
        "    training_data=x_train,\n",
        "    label_column_name=y_train,\n",
        "    n_cross_validations=5)"
      ],
      "execution_count": null,
      "outputs": []
    },
    {
      "cell_type": "code",
      "metadata": {
        "jupyter": {
          "outputs_hidden": false,
          "source_hidden": false
        },
        "nteract": {
          "transient": {
            "deleting": false
          }
        },
        "id": "Qpy-qMILG20P"
      },
      "source": [
        "# Submit your automl run\n",
        "\n",
        "### YOUR CODE HERE ###\n",
        "run = exp.submit(config=automl_config, show_output=True)"
      ],
      "execution_count": null,
      "outputs": []
    },
    {
      "cell_type": "code",
      "metadata": {
        "id": "pMcm4rdJG20R"
      },
      "source": [
        "# Retrieve and save your best automl model.\n",
        "best_run, automl_model = run.get_output()\n",
        "joblib.dump(automl_model, 'automl_model.joblib')\n",
        "### YOUR CODE HERE ###"
      ],
      "execution_count": null,
      "outputs": []
    }
  ]
}